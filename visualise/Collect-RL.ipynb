{
 "cells": [
  {
   "cell_type": "code",
   "execution_count": 4,
   "id": "25ff7188",
   "metadata": {},
   "outputs": [
    {
     "name": "stdout",
     "output_type": "stream",
     "text": [
      "(20,) (10,) (4,)\n",
      "torch.Size([2, 1, 10])\n",
      "torch.Size([1, 4])\n"
     ]
    }
   ],
   "source": [
    "import torch\n",
    "from thesisac.module import MLPClassifier\n",
    "\n",
    "model = MLPClassifier((2,10),10,4)\n",
    "y = model(torch.zeros(1,2,10))\n",
    "print(y.shape)"
   ]
  },
  {
   "cell_type": "code",
   "execution_count": null,
   "id": "664b492e",
   "metadata": {},
   "outputs": [],
   "source": [
    "import gym\n",
    "\n",
    "from stable_baselines3 import DQN\n",
    "\n",
    "env_id = \"ALE/Breakout-v5\"\n",
    "env = gym.make(env_id, \n",
    "                obs_type='rgb', \n",
    "                frameskip=4, \n",
    "                mode=0, \n",
    "                difficulty=0, \n",
    "                repeat_action_probability=0, \n",
    "                full_action_space=False, \n",
    "                render_mode=None)"
   ]
  },
  {
   "cell_type": "code",
   "execution_count": null,
   "id": "324f1435",
   "metadata": {},
   "outputs": [],
   "source": []
  },
  {
   "cell_type": "code",
   "execution_count": null,
   "id": "5c46c6af",
   "metadata": {},
   "outputs": [],
   "source": []
  }
 ],
 "metadata": {
  "kernelspec": {
   "display_name": "PhD",
   "language": "python",
   "name": "phd"
  },
  "language_info": {
   "codemirror_mode": {
    "name": "ipython",
    "version": 3
   },
   "file_extension": ".py",
   "mimetype": "text/x-python",
   "name": "python",
   "nbconvert_exporter": "python",
   "pygments_lexer": "ipython3",
   "version": "3.8.12"
  }
 },
 "nbformat": 4,
 "nbformat_minor": 5
}

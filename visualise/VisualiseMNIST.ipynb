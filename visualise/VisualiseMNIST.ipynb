{
 "cells": [
  {
   "cell_type": "code",
   "execution_count": null,
   "id": "356b7f23",
   "metadata": {
    "scrolled": true
   },
   "outputs": [],
   "source": [
    "# VISUALISE DATA FROM ENVIRONMENT -- single process\n",
    "import numpy as np\n",
    "import gymu\n",
    "import jnu as J\n",
    "\n",
    "env = gymu.make(\"thesis/MNIST-v0\", num_actions=4)           \n",
    "iterator = gymu.iterator(env, mode=gymu.mode.sa)\n",
    "\n",
    "dataset = gymu.data.dataset(iterator)\n",
    "dataset = dataset.numpy().to_tuple('state', 'action')\n",
    "dataset = dataset.to_tensor_dataset()\n",
    "\n",
    "s, a = dataset.tensors\n",
    "print(s.shape, a.shape)\n",
    "J.images(s, scale=3,on_interact=np.array(env.get_action_meanings())[a])\n"
   ]
  },
  {
   "cell_type": "code",
   "execution_count": null,
   "id": "70766c55",
   "metadata": {},
   "outputs": [],
   "source": [
    "# VISUALISE DATA FROM ENVIRONMENT -- single process\n",
    "import numpy as np\n",
    "import gymu\n",
    "import jnu as J\n",
    "import glob\n",
    "import os\n",
    "import itertools\n",
    "from torch.utils.data import DataLoader\n",
    "\n",
    "env = lambda : gymu.make(\"thesis/MNIST-v0\", num_actions=4)           \n",
    "policy = lambda : None\n",
    "\n",
    "#def test(x):\n",
    "#    print(\"PID:\", os.getpid())\n",
    "#    return x\n",
    "\n",
    "dataset = gymu.data.dataset(env, policy, num_episodes=4)\n",
    "dataset = dataset.numpy().to_tuple('state', 'action')#.map(test)\n",
    "dataset = dataset.to_tensor_dataset()\n",
    "\n",
    "dataset.tensors[0].shape\n",
    "#loader = DataLoader(dataset, num_workers=3)\n",
    "\n",
    "#for x in loader:\n",
    "#    print(x[0].shape, x[1].shape)"
   ]
  },
  {
   "cell_type": "code",
   "execution_count": null,
   "id": "5e2e3380",
   "metadata": {
    "scrolled": false
   },
   "outputs": [],
   "source": [
    "# CHECK THAT MULTIPROCESSING WORKS\n",
    "import numpy as np\n",
    "import gymu\n",
    "import jnu as J\n",
    "import glob\n",
    "import os\n",
    "import itertools\n",
    "from torch.utils.data import DataLoader\n",
    "\n",
    "files = glob.glob(\"/home/ben/.data/thesis/MNIST-v0/Uniform/train/*.tar*\")\n",
    "\n",
    "def test(x):\n",
    "    print(\"PID:\", os.getpid())\n",
    "    return x\n",
    "\n",
    "dataset = gymu.data.dataset(files).decode(keep_meta=False)\n",
    "dataset = dataset.numpy().to_tuple('state', 'action').map(test)\n",
    "loader = DataLoader(dataset, num_workers=2)\n",
    "for x in itertools.islice(loader,10):\n",
    "    pass"
   ]
  },
  {
   "cell_type": "code",
   "execution_count": null,
   "id": "c322532e",
   "metadata": {},
   "outputs": [],
   "source": []
  }
 ],
 "metadata": {
  "kernelspec": {
   "display_name": "PhD",
   "language": "python",
   "name": "phd"
  },
  "language_info": {
   "codemirror_mode": {
    "name": "ipython",
    "version": 3
   },
   "file_extension": ".py",
   "mimetype": "text/x-python",
   "name": "python",
   "nbconvert_exporter": "python",
   "pygments_lexer": "ipython3",
   "version": "3.8.12"
  }
 },
 "nbformat": 4,
 "nbformat_minor": 5
}

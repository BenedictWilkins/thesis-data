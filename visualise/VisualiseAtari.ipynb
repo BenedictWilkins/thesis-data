{
 "cells": [
  {
   "cell_type": "code",
   "execution_count": null,
   "id": "39937d55",
   "metadata": {
    "scrolled": true
   },
   "outputs": [],
   "source": [
    "import numpy as np\n",
    "import gymu\n",
    "import jnu as J\n",
    "\n",
    "env = gymu.make(\"thesis/MNIST-v0\", num_actions=4)  \n",
    "print(env.spec)"
   ]
  },
  {
   "cell_type": "code",
   "execution_count": null,
   "id": "e7fcf832",
   "metadata": {},
   "outputs": [],
   "source": [
    "\n",
    "iterator = gymu.iterator(env, mode=gymu.mode.sa, max_length=1000)\n",
    "\n",
    "dataset = gymu.data.dataset(iterator)\n",
    "dataset = dataset.gymu.mode(gymu.mode.sa)\n",
    "dataset = dataset.gymu.to_tensor_dataset()\n",
    "\n",
    "s, a = dataset.tensors\n",
    "J.images(s, scale=3, on_interact=np.array(env.get_action_meanings())[a.numpy()])\n"
   ]
  },
  {
   "cell_type": "code",
   "execution_count": null,
   "id": "2e038cb5",
   "metadata": {
    "scrolled": false
   },
   "outputs": [],
   "source": [
    "from gym import envs\n",
    "print(envs.registry.all())"
   ]
  },
  {
   "cell_type": "code",
   "execution_count": null,
   "id": "8e44b621",
   "metadata": {
    "scrolled": false
   },
   "outputs": [],
   "source": [
    "import pathlib\n",
    "import jnu as J\n",
    "import gymu\n",
    "\n",
    "# load data\n",
    "\n",
    "env_id = \"ALE/Breakout-v5\"\n",
    "\n",
    "path = pathlib.Path(f\"../data/{env_id}\").resolve()\n",
    "urls = [str(p) for p in path.iterdir()]\n",
    "\n",
    "dataset = gymu.data.dataset(urls)\n",
    "dataset = dataset.gymu.decode(keep_meta=False)\n",
    "dataset = dataset.gymu.mode(gymu.mode.sa)\n",
    "dataset = dataset.gymu.to_tensor_dataset()\n",
    "\n",
    "s, a = dataset.tensors\n",
    "\n",
    "J.images(s, on_interact=np.array(env.get_action_meanings())[a.numpy()])\n"
   ]
  },
  {
   "cell_type": "code",
   "execution_count": null,
   "id": "2aa38bcd",
   "metadata": {
    "scrolled": false
   },
   "outputs": [],
   "source": [
    "import jnu as J\n",
    "import gymu\n",
    "import numpy as np\n",
    "\n",
    "env_id = \"ALE/Breakout-v5\"\n",
    "\n",
    "env = gymu.make(env_id, \n",
    "                obs_type='rgb', \n",
    "                frameskip=1, \n",
    "                mode=0, \n",
    "                difficulty=0, \n",
    "                repeat_action_probability=0, \n",
    "                full_action_space=False, \n",
    "                render_mode=None)\n",
    "\n",
    "class FireReset(gym.Wrapper):\n",
    "\n",
    "    def reset(self):\n",
    "        self.env.reset()\n",
    "        fire = self.env.get_action_meanings().index(\"FIRE\")\n",
    "        state, *_ = self.env.step(fire)\n",
    "        return state\n",
    "    \n",
    "env = FireReset(env)\n",
    "\n",
    "iterator = gymu.iterator(env, lambda x : 0, mode=gymu.mode.sa, max_length=1000)\n",
    "\n",
    "import torchvision.transforms as T\n",
    "preprocess = T.Compose([\n",
    "    T.ToTensor(),\n",
    "    #T.Resize((64,64)),\n",
    "])\n",
    "\n",
    "\n",
    "dataset = gymu.data.dataset(iterator).map(lambda x: dict(**x))\n",
    "dataset = dataset.map_dict(state=preprocess)\n",
    "dataset = dataset.gymu.mode(gymu.mode.sa)\n",
    "dataset = dataset.gymu.to_tensor_dataset()\n",
    "\n",
    "s, a = dataset.tensors\n",
    "J.images(s, scale=3, on_interact=np.array(env.get_action_meanings())[a.numpy()])\n",
    "\n",
    "\n"
   ]
  },
  {
   "cell_type": "code",
   "execution_count": null,
   "id": "b0f713d2",
   "metadata": {},
   "outputs": [],
   "source": []
  },
  {
   "cell_type": "code",
   "execution_count": null,
   "id": "89ba21de",
   "metadata": {},
   "outputs": [],
   "source": []
  }
 ],
 "metadata": {
  "kernelspec": {
   "display_name": "PhD",
   "language": "python",
   "name": "phd"
  },
  "language_info": {
   "codemirror_mode": {
    "name": "ipython",
    "version": 3
   },
   "file_extension": ".py",
   "mimetype": "text/x-python",
   "name": "python",
   "nbconvert_exporter": "python",
   "pygments_lexer": "ipython3",
   "version": "3.8.12"
  }
 },
 "nbformat": 4,
 "nbformat_minor": 5
}

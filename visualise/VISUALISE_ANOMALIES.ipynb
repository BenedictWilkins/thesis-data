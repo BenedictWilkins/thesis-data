{
 "cells": [
  {
   "cell_type": "code",
   "execution_count": 5,
   "id": "c4250593",
   "metadata": {},
   "outputs": [
    {
     "name": "stdout",
     "output_type": "stream",
     "text": [
      "RandomMask [1, 28, 28]\n"
     ]
    },
    {
     "data": {
      "application/vnd.jupyter.widget-view+json": {
       "model_id": "fd08170f93ab47638ffbd719744b4fcc",
       "version_major": 2,
       "version_minor": 0
      },
      "text/plain": [
       "HBox(children=(Canvas(height=60, width=466),), layout=Layout(align_items='center', display='flex', flex_flow='…"
      ]
     },
     "metadata": {},
     "output_type": "display_data"
    },
    {
     "name": "stdout",
     "output_type": "stream",
     "text": [
      "RandomSplitFlipHorizontal [1, 28, 28]\n"
     ]
    },
    {
     "data": {
      "application/vnd.jupyter.widget-view+json": {
       "model_id": "f2fbc33cd0f0454d8a6cbe5f362b1cb6",
       "version_major": 2,
       "version_minor": 0
      },
      "text/plain": [
       "HBox(children=(Canvas(height=60, width=466),), layout=Layout(align_items='center', display='flex', flex_flow='…"
      ]
     },
     "metadata": {},
     "output_type": "display_data"
    },
    {
     "name": "stdout",
     "output_type": "stream",
     "text": [
      "RandomSplitFlipVertical [1, 28, 28]\n"
     ]
    },
    {
     "data": {
      "application/vnd.jupyter.widget-view+json": {
       "model_id": "ac4053dd94934eff9f167b02a2a45075",
       "version_major": 2,
       "version_minor": 0
      },
      "text/plain": [
       "HBox(children=(Canvas(height=60, width=466),), layout=Layout(align_items='center', display='flex', flex_flow='…"
      ]
     },
     "metadata": {},
     "output_type": "display_data"
    },
    {
     "name": "stdout",
     "output_type": "stream",
     "text": [
      "SaltAndPepper [1, 28, 28]\n"
     ]
    },
    {
     "data": {
      "application/vnd.jupyter.widget-view+json": {
       "model_id": "21b7355ac42a4be49038beb8cd3fc473",
       "version_major": 2,
       "version_minor": 0
      },
      "text/plain": [
       "HBox(children=(Canvas(height=60, width=466),), layout=Layout(align_items='center', display='flex', flex_flow='…"
      ]
     },
     "metadata": {},
     "output_type": "display_data"
    },
    {
     "name": "stdout",
     "output_type": "stream",
     "text": [
      "GaussianBlur [1, 28, 28]\n"
     ]
    },
    {
     "data": {
      "application/vnd.jupyter.widget-view+json": {
       "model_id": "414c3e1c086c4e0da4a250d25550af0e",
       "version_major": 2,
       "version_minor": 0
      },
      "text/plain": [
       "HBox(children=(Canvas(height=60, width=466),), layout=Layout(align_items='center', display='flex', flex_flow='…"
      ]
     },
     "metadata": {},
     "output_type": "display_data"
    },
    {
     "name": "stdout",
     "output_type": "stream",
     "text": [
      "RandomBrightness [1, 28, 28]\n"
     ]
    },
    {
     "data": {
      "application/vnd.jupyter.widget-view+json": {
       "model_id": "b5752d3babd1447987bf4485818d0f67",
       "version_major": 2,
       "version_minor": 0
      },
      "text/plain": [
       "HBox(children=(Canvas(height=60, width=466),), layout=Layout(align_items='center', display='flex', flex_flow='…"
      ]
     },
     "metadata": {},
     "output_type": "display_data"
    },
    {
     "name": "stdout",
     "output_type": "stream",
     "text": [
      "RandomResizedCrop [1, 28, 28]\n"
     ]
    },
    {
     "data": {
      "application/vnd.jupyter.widget-view+json": {
       "model_id": "a541bbdbecf545bc809f73a64e6033dd",
       "version_major": 2,
       "version_minor": 0
      },
      "text/plain": [
       "HBox(children=(Canvas(height=60, width=466),), layout=Layout(align_items='center', display='flex', flex_flow='…"
      ]
     },
     "metadata": {},
     "output_type": "display_data"
    },
    {
     "name": "stdout",
     "output_type": "stream",
     "text": [
      "RandomResizedPad [1, 28, 28]\n"
     ]
    },
    {
     "data": {
      "application/vnd.jupyter.widget-view+json": {
       "model_id": "aec2ffadd61c4f2e990976bcb39ce538",
       "version_major": 2,
       "version_minor": 0
      },
      "text/plain": [
       "HBox(children=(Canvas(height=60, width=466),), layout=Layout(align_items='center', display='flex', flex_flow='…"
      ]
     },
     "metadata": {},
     "output_type": "display_data"
    },
    {
     "name": "stdout",
     "output_type": "stream",
     "text": [
      "RandomAffine [1, 28, 28]\n"
     ]
    },
    {
     "data": {
      "application/vnd.jupyter.widget-view+json": {
       "model_id": "67387e001f8c4be9b51247fc2f9af310",
       "version_major": 2,
       "version_minor": 0
      },
      "text/plain": [
       "HBox(children=(Canvas(height=60, width=466),), layout=Layout(align_items='center', display='flex', flex_flow='…"
      ]
     },
     "metadata": {},
     "output_type": "display_data"
    }
   ],
   "source": [
    "import torchvision\n",
    "import torchvision.transforms as T\n",
    "import torchvision.transforms.functional as F\n",
    "import pathlib\n",
    "import jnu as J\n",
    "import thesisdata\n",
    "import torch\n",
    "import torch.nn as nn\n",
    "\n",
    "from thesisdata.transform.mnist import MNISTTransform,RandomApply, RandomMask, SaltAndPepper, RandomSplitFlipVertical, RandomSplitFlipHorizontal, GaussianBlur,RandomResizedCrop,RandomResizedPad,RandomAffine,RandomBrightness\n",
    "\n",
    "dataset = torchvision.datasets.MNIST(pathlib.Path(\"~/.data/MNIST/\").expanduser().resolve(), train=False, download=True)\n",
    "s = MNISTTransform()(dataset.data)\n",
    "\n",
    "n = torch.randint(1000, size=(1,))[0]\n",
    "x = s[n:n+8]\n",
    "\n",
    "transforms = [\n",
    "    RandomMask(),\n",
    "    RandomSplitFlipHorizontal(),\n",
    "    RandomSplitFlipVertical(),\n",
    "    SaltAndPepper(inplace=False),\n",
    "    GaussianBlur(9),\n",
    "    RandomBrightness(),\n",
    "    RandomResizedCrop(),\n",
    "    RandomResizedPad(),\n",
    "    RandomAffine(),\n",
    "]\n",
    " \n",
    "IMGS = []\n",
    "for t in transforms:\n",
    "    print(t.__class__.__name__, [*t(x[0]).shape])\n",
    "    apply = RandomApply(t, prop=1)\n",
    "    imgs, _ = apply(x)\n",
    "    IMGS.append(1 - torchvision.utils.make_grid(imgs, pad_value=1, padding=1))\n",
    "    J.image(IMGS[-1], scale=2)\n",
    "    torchvision.utils.save_image(IMGS[-1], f\"./imgs/{t.__class__.__name__}.png\")\n",
    "    "
   ]
  },
  {
   "cell_type": "code",
   "execution_count": null,
   "id": "e00bb418",
   "metadata": {},
   "outputs": [],
   "source": []
  },
  {
   "cell_type": "code",
   "execution_count": null,
   "id": "5f543840",
   "metadata": {},
   "outputs": [],
   "source": []
  }
 ],
 "metadata": {
  "kernelspec": {
   "display_name": "PhD",
   "language": "python",
   "name": "phd"
  },
  "language_info": {
   "codemirror_mode": {
    "name": "ipython",
    "version": 3
   },
   "file_extension": ".py",
   "mimetype": "text/x-python",
   "name": "python",
   "nbconvert_exporter": "python",
   "pygments_lexer": "ipython3",
   "version": "3.8.12"
  }
 },
 "nbformat": 4,
 "nbformat_minor": 5
}
